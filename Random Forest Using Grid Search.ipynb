{
 "cells": [
  {
   "cell_type": "markdown",
   "metadata": {},
   "source": [
    "## Import Necessary Packages "
   ]
  },
  {
   "cell_type": "code",
   "execution_count": 27,
   "metadata": {},
   "outputs": [],
   "source": [
    "import pandas as pd\n",
    "import numpy as np\n",
    "import datetime\n",
    "import seaborn as sns\n",
    "import math\n",
    "import matplotlib.pyplot as plt\n",
    "import sklearn\n",
    "from pandas import Series, DataFrame\n",
    "from pylab import rcParams\n",
    "from sklearn import preprocessing\n",
    "from sklearn.linear_model import LogisticRegression\n",
    "from sklearn.cross_validation import train_test_split\n",
    "from sklearn import metrics \n",
    "from sklearn.metrics import classification_report\n",
    "import time \n",
    "from statsmodels.stats.outliers_influence import variance_inflation_factor\n",
    "from sklearn import datasets, linear_model\n",
    "import random\n",
    "from sklearn.ensemble import RandomForestClassifier\n",
    "from sklearn.metrics import roc_auc_score\n",
    "from sklearn.metrics import roc_curve, auc"
   ]
  },
  {
   "cell_type": "markdown",
   "metadata": {},
   "source": [
    "## Import Input Files"
   ]
  },
  {
   "cell_type": "code",
   "execution_count": 2,
   "metadata": {},
   "outputs": [],
   "source": [
    "user_engagement = pd.read_csv(\"takehome_user_engagement-intern.csv\",sep=\",\",error_bad_lines=False)\n",
    "user_engagement['time_stamp'] = pd.to_datetime(user_engagement['time_stamp'], format=\"%Y-%m-%d\")\n",
    "user_engagement['time_stamp'] = user_engagement['time_stamp'].dt.date\n",
    "users = pd.read_csv(\"takehome_users-intern.csv\",sep=\",\",encoding=\"ISO-8859-1\")"
   ]
  },
  {
   "cell_type": "code",
   "execution_count": 3,
   "metadata": {},
   "outputs": [
    {
     "data": {
      "text/plain": [
       "(12000, 11)"
      ]
     },
     "execution_count": 3,
     "metadata": {},
     "output_type": "execute_result"
    }
   ],
   "source": [
    "users.shape"
   ]
  },
  {
   "cell_type": "markdown",
   "metadata": {},
   "source": [
    "## Target Creation"
   ]
  },
  {
   "cell_type": "code",
   "execution_count": 4,
   "metadata": {},
   "outputs": [],
   "source": [
    "def adopted_user(user_engagement,users):\n",
    "    u =  users['object_id'].unique()\n",
    "    df = pd.DataFrame(columns=[\"user_id\", \"target\"])\n",
    "    \n",
    "    for i in range(1,len(u)+1):\n",
    "        a = user_engagement[(user_engagement['user_id'] == i)]\n",
    "        if a.empty == True:\n",
    "            b = pd.DataFrame(columns=[\"user_id\", \"target\"], data=[[i,0]])\n",
    "            df = df.append(b)\n",
    "            continue\n",
    "        else:\n",
    "            x=(a.groupby('user_id')['visited'].agg(['sum']) < 3).reset_index()\n",
    "            if x['sum'].bool() == True:\n",
    "                b = pd.DataFrame(columns=[\"user_id\", \"target\"], data=[[i,0]])\n",
    "                df = df.append(b)\n",
    "            else:\n",
    "                for j in range(0,a.shape[0]-2):\n",
    "                    \n",
    "                    if (a.iloc[j+2,0] - a.iloc[j,0]).days < 8:\n",
    "                        b = pd.DataFrame(columns=[\"user_id\", \"target\"], data=[[i,1]])\n",
    "                        df = df.append(b)\n",
    "                        if b.get_value(0,'target') == 1:\n",
    "                            break\n",
    "                        else:\n",
    "                            continue\n",
    "                    else:\n",
    "                        b = pd.DataFrame(columns=[\"user_id\", \"target\"], data=[[i,0]])\n",
    "                        df = df.append(b)\n",
    "    df = pd.DataFrame((df.groupby('user_id')['target'].agg(['max'])).reset_index()).rename(columns={'max':'target'})\n",
    "    return(df)"
   ]
  },
  {
   "cell_type": "code",
   "execution_count": 5,
   "metadata": {},
   "outputs": [
    {
     "name": "stderr",
     "output_type": "stream",
     "text": [
      "C:\\Users\\ppital499\\AppData\\Local\\Continuum\\anaconda3.6\\lib\\site-packages\\ipykernel_launcher.py:22: FutureWarning: get_value is deprecated and will be removed in a future release. Please use .at[] or .iat[] accessors instead\n"
     ]
    }
   ],
   "source": [
    "target = adopted_user(user_engagement,users)"
   ]
  },
  {
   "cell_type": "code",
   "execution_count": 6,
   "metadata": {},
   "outputs": [
    {
     "data": {
      "text/plain": [
       "12000"
      ]
     },
     "execution_count": 6,
     "metadata": {},
     "output_type": "execute_result"
    }
   ],
   "source": [
    "target['user_id'].count()"
   ]
  },
  {
   "cell_type": "code",
   "execution_count": 7,
   "metadata": {},
   "outputs": [
    {
     "data": {
      "text/plain": [
       "1656"
      ]
     },
     "execution_count": 7,
     "metadata": {},
     "output_type": "execute_result"
    }
   ],
   "source": [
    "target['target'].sum()"
   ]
  },
  {
   "cell_type": "markdown",
   "metadata": {},
   "source": [
    "## Check Target Distribution "
   ]
  },
  {
   "cell_type": "code",
   "execution_count": 9,
   "metadata": {},
   "outputs": [],
   "source": [
    "df=users.merge(target, left_on='object_id', right_on='user_id', how='inner')"
   ]
  },
  {
   "cell_type": "code",
   "execution_count": 11,
   "metadata": {},
   "outputs": [
    {
     "data": {
      "image/png": "[encoded data removed]",
      "text/plain": [
       "<matplotlib.figure.Figure at 0x2c7b2c5def0>"
      ]
     },
     "metadata": {},
     "output_type": "display_data"
    }
   ],
   "source": [
    "sns.countplot(x=\"target\",data=target)\n",
    "ax = plt.gca()\n",
    "def roundup(x):\n",
    "    return 100 + int(math.ceil(x / 100.0)) * 100\n",
    "y_max = df['target'].value_counts().max() \n",
    "ax.set_ylim([0, roundup(y_max)+1000])\n",
    "for p in ax.patches:\n",
    "    ax.text(p.get_x() + p.get_width()/2., p.get_height(), '%d' % int(p.get_height()), \n",
    "            fontsize=12, color='red', ha='center', va='bottom')\n",
    "plt.title('Overall Target Population')\n",
    "plt.show()"
   ]
  },
  {
   "cell_type": "markdown",
   "metadata": {},
   "source": [
    "## Descriptive Statistics "
   ]
  },
  {
   "cell_type": "code",
   "execution_count": 12,
   "metadata": {},
   "outputs": [],
   "source": [
    "df=users.merge(target, left_on='object_id', right_on='user_id', how='inner')\n",
    "df['creation_time']=pd.to_datetime(df['creation_time'], format='%m/%d/%Y %H:%M', errors='raise', infer_datetime_format=False, exact=True)"
   ]
  },
  {
   "cell_type": "code",
   "execution_count": 13,
   "metadata": {},
   "outputs": [
    {
     "data": {
      "text/plain": [
       "<matplotlib.legend.Legend at 0x2c7b30e0240>"
      ]
     },
     "execution_count": 13,
     "metadata": {},
     "output_type": "execute_result"
    },
    {
     "data": {
      "image/png": "[encoded data removed]",
      "text/plain": [
       "<matplotlib.figure.Figure at 0x2c7b2e40940>"
      ]
     },
     "metadata": {},
     "output_type": "display_data"
    }
   ],
   "source": [
    "tps = df.pivot_table(values=['object_id'], \n",
    "                      index='enabled_for_marketing_drip',\n",
    "                      columns='target',\n",
    "                      aggfunc='count')\n",
    "\n",
    "tps = tps.div(tps.sum(1), axis=0)\n",
    "sns.set(rc={\"figure.figsize\": (4, 3)})\n",
    "sns.set(font_scale = 0.95)\n",
    "#fig, ax = plt.subplots(figsize=a4_dims)\n",
    "#plt.title('Target Distribution across Mailing List')\n",
    "tps.plot(kind='barh', stacked=True,legend=False)\n",
    "plt.title('Target Distribution across Marketing Drip')\n",
    "plt.legend(['target:0','target: 1'],loc=0)"
   ]
  },
  {
   "cell_type": "code",
   "execution_count": 14,
   "metadata": {},
   "outputs": [
    {
     "data": {
      "text/plain": [
       "<matplotlib.legend.Legend at 0x2c7b2e1cdd8>"
      ]
     },
     "execution_count": 14,
     "metadata": {},
     "output_type": "execute_result"
    },
    {
     "data": {
      "image/png": "[encoded data removed]",
      "text/plain": [
       "<matplotlib.figure.Figure at 0x2c7b3124908>"
      ]
     },
     "metadata": {},
     "output_type": "display_data"
    }
   ],
   "source": [
    "tps1 = df.pivot_table(values=['object_id'], \n",
    "                      index='opted_in_to_mailing_list',\n",
    "                      columns='target',\n",
    "                      aggfunc='count')\n",
    "\n",
    "tps1 = tps.div(tps.sum(1), axis=0)\n",
    "sns.set(rc={\"figure.figsize\": (4, 3)})\n",
    "sns.set(font_scale = 0.95)\n",
    "#fig, ax = plt.subplots(figsize=a4_dims)\n",
    "#plt.title('Target Distribution across Mailing List')\n",
    "tps1.plot(kind='barh', stacked=True,legend=False)\n",
    "plt.title('Target Distribution across Mailing List')\n",
    "plt.legend(['target:0','target: 1'],loc=0)"
   ]
  },
  {
   "cell_type": "code",
   "execution_count": 15,
   "metadata": {},
   "outputs": [
    {
     "data": {
      "text/plain": [
       "<matplotlib.figure.Figure at 0x2c7b31e1f28>"
      ]
     },
     "metadata": {},
     "output_type": "display_data"
    },
    {
     "data": {
      "image/png": "[encoded data removed]",
      "text/plain": [
       "<matplotlib.figure.Figure at 0x2c7b30c0748>"
      ]
     },
     "metadata": {},
     "output_type": "display_data"
    }
   ],
   "source": [
    "import matplotlib.pyplot as plt\n",
    "import seaborn as sns\n",
    "sns.set(rc={\"figure.figsize\": (5, 5)})\n",
    "sns.set(font_scale = 0.95)\n",
    "\n",
    "a4_dims = (10, 5)\n",
    "for ax in plt.gcf().axes:\n",
    "    l = ax.get_xlabel()\n",
    "    ax.set_xlabel(l, fontsize=5)\n",
    "fig, ax = plt.subplots(figsize=a4_dims)\n",
    "sns.barplot(x=\"creation_source\", y=\"target\",data=df) \n",
    "#plt.legend(loc='upper right')\n",
    "plt.show()"
   ]
  },
  {
   "cell_type": "markdown",
   "metadata": {},
   "source": [
    "## Variable Pre-processing "
   ]
  },
  {
   "cell_type": "markdown",
   "metadata": {},
   "source": [
    "### Check Variables that have high levels"
   ]
  },
  {
   "cell_type": "code",
   "execution_count": 16,
   "metadata": {},
   "outputs": [
    {
     "name": "stdout",
     "output_type": "stream",
     "text": [
      "object_id\n",
      "creation_time\n",
      "name\n",
      "email\n",
      "last_session_creation_time\n",
      "org_id\n",
      "invited_by_user_id\n",
      "email_domain\n",
      "user_id\n"
     ]
    }
   ],
   "source": [
    "categorical =[]\n",
    "for i in df.columns:\n",
    "    if len(df[i].unique().tolist()) > 10:\n",
    "        print(i)\n",
    "    else:\n",
    "        continue"
   ]
  },
  {
   "cell_type": "code",
   "execution_count": 17,
   "metadata": {},
   "outputs": [],
   "source": [
    "df=df.drop(['name','email','last_session_creation_time','org_id','email_domain','user_id'],axis=1)"
   ]
  },
  {
   "cell_type": "code",
   "execution_count": 18,
   "metadata": {},
   "outputs": [
    {
     "data": {
      "text/plain": [
       "object_id                        0\n",
       "creation_time                    0\n",
       "creation_source                  0\n",
       "opted_in_to_mailing_list         0\n",
       "enabled_for_marketing_drip       0\n",
       "invited_by_user_id            5583\n",
       "target                           0\n",
       "dtype: int64"
      ]
     },
     "execution_count": 18,
     "metadata": {},
     "output_type": "execute_result"
    }
   ],
   "source": [
    "df.isnull().sum()"
   ]
  },
  {
   "cell_type": "code",
   "execution_count": 19,
   "metadata": {},
   "outputs": [],
   "source": [
    "df=df.fillna(0)"
   ]
  },
  {
   "cell_type": "markdown",
   "metadata": {},
   "source": [
    "## Feature Engineering "
   ]
  },
  {
   "cell_type": "code",
   "execution_count": 20,
   "metadata": {},
   "outputs": [],
   "source": [
    "df['invited_by_user'] = np.where(df['invited_by_user_id']==0, 0, 1)\n",
    "df=df.drop(['invited_by_user_id'],axis=1)"
   ]
  },
  {
   "cell_type": "code",
   "execution_count": 21,
   "metadata": {},
   "outputs": [
    {
     "data": {
      "text/plain": [
       "object_id                              int64\n",
       "creation_time                 datetime64[ns]\n",
       "creation_source                       object\n",
       "opted_in_to_mailing_list               int64\n",
       "enabled_for_marketing_drip             int64\n",
       "target                                 int64\n",
       "invited_by_user                        int32\n",
       "dtype: object"
      ]
     },
     "execution_count": 21,
     "metadata": {},
     "output_type": "execute_result"
    }
   ],
   "source": [
    "df.dtypes"
   ]
  },
  {
   "cell_type": "code",
   "execution_count": 22,
   "metadata": {},
   "outputs": [],
   "source": [
    "le = preprocessing.LabelEncoder()\n",
    "le.fit(df['creation_source'])\n",
    "df['creation_source'] = le.transform(df['creation_source'])"
   ]
  },
  {
   "cell_type": "code",
   "execution_count": 23,
   "metadata": {},
   "outputs": [],
   "source": [
    "df['Tenure'] = ((datetime.datetime.today() - df['creation_time'])/np.timedelta64(1, 'D'))\n",
    "df=df.drop(['creation_time'],axis=1)\n",
    "df = df.round(2)"
   ]
  },
  {
   "cell_type": "code",
   "execution_count": 24,
   "metadata": {},
   "outputs": [
    {
     "data": {
      "image/png": "[encoded data removed]",
      "text/plain": [
       "<matplotlib.figure.Figure at 0x2c7b31a6908>"
      ]
     },
     "metadata": {},
     "output_type": "display_data"
    }
   ],
   "source": [
    "sns.boxplot(x=\"target\", y=\"Tenure\", data=df)\n",
    "plt.show()"
   ]
  },
  {
   "cell_type": "markdown",
   "metadata": {},
   "source": [
    "## Multi collinearity check "
   ]
  },
  {
   "cell_type": "code",
   "execution_count": 113,
   "metadata": {},
   "outputs": [
    {
     "data": {
      "image/png": "[encoded data removed]",
      "text/plain": [
       "<matplotlib.figure.Figure at 0x2c7b338b048>"
      ]
     },
     "metadata": {},
     "output_type": "display_data"
    }
   ],
   "source": [
    "columns1 = df.columns\n",
    "f, (ax1) = plt.subplots(1, figsize=(15,10))\n",
    "ax1.set_title(\"Pearson\")\n",
    "#assign the cbar to be in that axis using the cbar_ax kw\n",
    "sns.heatmap(df.corr(), ax=ax1 ,yticklabels=columns1,xticklabels=columns1, annot=True, fmt='.0%')\n",
    "plt.yticks(rotation=0) \n",
    "plt.xticks(rotation=90) \n",
    "ax1.figure.tight_layout()\n",
    "plt.show()"
   ]
  },
  {
   "cell_type": "markdown",
   "metadata": {},
   "source": [
    "## Variance Inflation Factor"
   ]
  },
  {
   "cell_type": "code",
   "execution_count": 114,
   "metadata": {},
   "outputs": [],
   "source": [
    "all_input_var = [\"creation_source\",\n",
    "\"opted_in_to_mailing_list\",\n",
    "\"enabled_for_marketing_drip\",\n",
    "#\"invited_by_user\",\n",
    "\"Tenure\"\n",
    "]\n",
    "vif = []\n",
    "for i in range(df[all_input_var].shape[1]):\n",
    "    vif.append(variance_inflation_factor(df[all_input_var].values,i))\n",
    "vif = pd.DataFrame(vif)\n",
    "names = pd.DataFrame(df[all_input_var].columns.tolist())\n",
    "t = pd.concat([names,vif],axis=1)\n",
    "t.columns = ['variable','vif_score']"
   ]
  },
  {
   "cell_type": "code",
   "execution_count": 115,
   "metadata": {},
   "outputs": [
    {
     "data": {
      "text/html": [
       "<div>\n",
       "<style scoped>\n",
       "    .dataframe tbody tr th:only-of-type {\n",
       "        vertical-align: middle;\n",
       "    }\n",
       "\n",
       "    .dataframe tbody tr th {\n",
       "        vertical-align: top;\n",
       "    }\n",
       "\n",
       "    .dataframe thead th {\n",
       "        text-align: right;\n",
       "    }\n",
       "</style>\n",
       "<table border=\"1\" class=\"dataframe\">\n",
       "  <thead>\n",
       "    <tr style=\"text-align: right;\">\n",
       "      <th></th>\n",
       "      <th>variable</th>\n",
       "      <th>vif_score</th>\n",
       "    </tr>\n",
       "  </thead>\n",
       "  <tbody>\n",
       "    <tr>\n",
       "      <th>0</th>\n",
       "      <td>creation_source</td>\n",
       "      <td>2.690754</td>\n",
       "    </tr>\n",
       "    <tr>\n",
       "      <th>1</th>\n",
       "      <td>opted_in_to_mailing_list</td>\n",
       "      <td>1.736365</td>\n",
       "    </tr>\n",
       "    <tr>\n",
       "      <th>2</th>\n",
       "      <td>enabled_for_marketing_drip</td>\n",
       "      <td>1.533215</td>\n",
       "    </tr>\n",
       "    <tr>\n",
       "      <th>3</th>\n",
       "      <td>Tenure</td>\n",
       "      <td>3.029834</td>\n",
       "    </tr>\n",
       "  </tbody>\n",
       "</table>\n",
       "</div>"
      ],
      "text/plain": [
       "                     variable  vif_score\n",
       "0             creation_source   2.690754\n",
       "1    opted_in_to_mailing_list   1.736365\n",
       "2  enabled_for_marketing_drip   1.533215\n",
       "3                      Tenure   3.029834"
      ]
     },
     "execution_count": 115,
     "metadata": {},
     "output_type": "execute_result"
    }
   ],
   "source": [
    "t"
   ]
  },
  {
   "cell_type": "code",
   "execution_count": 116,
   "metadata": {},
   "outputs": [],
   "source": [
    "a= t.loc[t['vif_score'] <=5,['variable']].values.flatten().tolist()"
   ]
  },
  {
   "cell_type": "markdown",
   "metadata": {},
   "source": [
    "## Random Forest with Grid Search "
   ]
  },
  {
   "cell_type": "code",
   "execution_count": 117,
   "metadata": {},
   "outputs": [],
   "source": [
    "from sklearn.model_selection import train_test_split\n",
    "train, test = train_test_split(df, test_size = 0.3,random_state=1991)\n",
    "train_x = train[a]\n",
    "train_y = train.target\n",
    "test_x = test[a]\n",
    "test_y = test.target\n",
    "features = train_x.columns"
   ]
  },
  {
   "cell_type": "code",
   "execution_count": 118,
   "metadata": {},
   "outputs": [
    {
     "data": {
      "text/plain": [
       "GridSearchCV(cv=5, error_score='raise',\n",
       "       estimator=RandomForestClassifier(bootstrap=True, class_weight=None, criterion='gini',\n",
       "            max_depth=None, max_features='auto', max_leaf_nodes=None,\n",
       "            min_impurity_decrease=0.0, min_impurity_split=None,\n",
       "            min_samples_leaf=1, min_samples_split=2,\n",
       "            min_weight_fraction_leaf=0.0, n_estimators=10, n_jobs=1,\n",
       "            oob_score=False, random_state=None, verbose=0,\n",
       "            warm_start=False),\n",
       "       fit_params={}, iid=True, n_jobs=-1,\n",
       "       param_grid={'n_estimators': [100, 200, 500], 'criterion': ['gini', 'entropy'], 'max_features': ['auto'], 'max_depth': [3, 4, 6, 10], 'min_samples_split': [3]},\n",
       "       pre_dispatch='2*n_jobs', refit=True, scoring=None, verbose=0)"
      ]
     },
     "execution_count": 118,
     "metadata": {},
     "output_type": "execute_result"
    }
   ],
   "source": [
    "from sklearn.grid_search import GridSearchCV\n",
    "from sklearn.model_selection import KFold\n",
    "grid_1 = { \"n_estimators\"      : [100,200,500],\n",
    "               \"criterion\"         : [\"gini\",\"entropy\"],\n",
    "               \"max_features\"      : ['auto'],\n",
    "               \"max_depth\"         : [3,4,6,10],\n",
    "               \"min_samples_split\"  : [3]\n",
    "         }\n",
    "RF=RandomForestClassifier()\n",
    "grid_search = GridSearchCV(RF, grid_1, n_jobs=-1, cv=5)\n",
    "grid_search.fit(train_x, train_y)"
   ]
  },
  {
   "cell_type": "code",
   "execution_count": 119,
   "metadata": {},
   "outputs": [
    {
     "data": {
      "text/plain": [
       "0.8592857142857143"
      ]
     },
     "execution_count": 119,
     "metadata": {},
     "output_type": "execute_result"
    }
   ],
   "source": [
    "grid_search.best_score_"
   ]
  },
  {
   "cell_type": "code",
   "execution_count": 120,
   "metadata": {},
   "outputs": [
    {
     "data": {
      "text/plain": [
       "{'criterion': 'gini',\n",
       " 'max_depth': 3,\n",
       " 'max_features': 'auto',\n",
       " 'min_samples_split': 3,\n",
       " 'n_estimators': 100}"
      ]
     },
     "execution_count": 120,
     "metadata": {},
     "output_type": "execute_result"
    }
   ],
   "source": [
    "grid_search.best_params_"
   ]
  },
  {
   "cell_type": "code",
   "execution_count": 121,
   "metadata": {},
   "outputs": [],
   "source": [
    "from sklearn.metrics import *\n",
    "from numpy import *\n",
    "def Performance(Model,train_y,train_x,test_y,test_x):    \n",
    "    %matplotlib inline\n",
    "    plt.subplots_adjust(left=0.0001, bottom=None, right=1.8, top=None, wspace=None, hspace=None)\n",
    "    fpr_tr, tpr_tr, _ = roc_curve(train_y, Model.predict_proba(train_x)[:,1])\n",
    "    fpr_tt, tpr_tt, _ = roc_curve(test_y, Model.predict_proba(test_x)[:,1])\n",
    "    roc_auc_tr = auc(fpr_tr, tpr_tr)\n",
    "    roc_auc_tt = auc(fpr_tt, tpr_tt)\n",
    "    plt.subplot(1,2,1)\n",
    "    plt.title('ROC Curve')\n",
    "    plt.plot(fpr_tr, tpr_tr, color = 'green', label = 'Train = %0.2f' % roc_auc_tr)\n",
    "    plt.plot(fpr_tt, tpr_tt, color = 'blue', label = 'Test = %0.2f' % roc_auc_tt)\n",
    "    plt.xticks(arange(0,1,0.1))\n",
    "    plt.yticks(arange(0,1,0.1))\n",
    "    plt.legend(loc = 'lower right')\n",
    "    plt.plot([0, 1], [0, 1],'r--')\n",
    "    plt.xlim([0, 1])\n",
    "    plt.ylim([0, 1])\n",
    "    plt.ylabel('True Positive Rate (Sensitivity)')\n",
    "    plt.xlabel('False Positive Rate (1 - Specificity)')\n",
    "    #plt.grid()"
   ]
  },
  {
   "cell_type": "code",
   "execution_count": 122,
   "metadata": {},
   "outputs": [
    {
     "data": {
      "image/png": "[encoded data removed]",
      "text/plain": [
       "<matplotlib.figure.Figure at 0x2c7b391ac88>"
      ]
     },
     "metadata": {},
     "output_type": "display_data"
    }
   ],
   "source": [
    "Performance(grid_search,train_y,train_x,test_y,test_x)"
   ]
  },
  {
   "cell_type": "markdown",
   "metadata": {},
   "source": [
    "## Calculate Feature Importance "
   ]
  },
  {
   "cell_type": "code",
   "execution_count": 123,
   "metadata": {},
   "outputs": [
    {
     "data": {
      "text/html": [
       "<div>\n",
       "<style scoped>\n",
       "    .dataframe tbody tr th:only-of-type {\n",
       "        vertical-align: middle;\n",
       "    }\n",
       "\n",
       "    .dataframe tbody tr th {\n",
       "        vertical-align: top;\n",
       "    }\n",
       "\n",
       "    .dataframe thead th {\n",
       "        text-align: right;\n",
       "    }\n",
       "</style>\n",
       "<table border=\"1\" class=\"dataframe\">\n",
       "  <thead>\n",
       "    <tr style=\"text-align: right;\">\n",
       "      <th></th>\n",
       "      <th>Variable</th>\n",
       "      <th>Variable_Importance</th>\n",
       "    </tr>\n",
       "  </thead>\n",
       "  <tbody>\n",
       "    <tr>\n",
       "      <th>3</th>\n",
       "      <td>Tenure</td>\n",
       "      <td>0.964550</td>\n",
       "    </tr>\n",
       "    <tr>\n",
       "      <th>0</th>\n",
       "      <td>creation_source</td>\n",
       "      <td>0.023966</td>\n",
       "    </tr>\n",
       "    <tr>\n",
       "      <th>1</th>\n",
       "      <td>opted_in_to_mailing_list</td>\n",
       "      <td>0.007414</td>\n",
       "    </tr>\n",
       "    <tr>\n",
       "      <th>2</th>\n",
       "      <td>enabled_for_marketing_drip</td>\n",
       "      <td>0.004069</td>\n",
       "    </tr>\n",
       "  </tbody>\n",
       "</table>\n",
       "</div>"
      ],
      "text/plain": [
       "                     Variable  Variable_Importance\n",
       "3                      Tenure             0.964550\n",
       "0             creation_source             0.023966\n",
       "1    opted_in_to_mailing_list             0.007414\n",
       "2  enabled_for_marketing_drip             0.004069"
      ]
     },
     "execution_count": 123,
     "metadata": {},
     "output_type": "execute_result"
    }
   ],
   "source": [
    "# Feature Importance\n",
    "from sklearn import datasets\n",
    "from sklearn import metrics\n",
    "from sklearn.ensemble import ExtraTreesClassifier\n",
    "# fit an Extra Trees model to the data\n",
    "model = ExtraTreesClassifier()\n",
    "model.fit(train_x, train_y)\n",
    "# display the relative importance of each attribute\n",
    "Variables = model.feature_importances_\n",
    "vars_in_tree = train_x.columns\n",
    "temp_df = pd.DataFrame({'Variable': vars_in_tree,'Variable_Importance': Variables})\n",
    "temp_df.sort_values('Variable_Importance', ascending=False)"
   ]
  },
  {
   "cell_type": "markdown",
   "metadata": {},
   "source": [
    "## Post Model Analysis "
   ]
  },
  {
   "cell_type": "markdown",
   "metadata": {},
   "source": [
    "### Select a cut off based on F Score "
   ]
  },
  {
   "cell_type": "code",
   "execution_count": 124,
   "metadata": {},
   "outputs": [
    {
     "name": "stderr",
     "output_type": "stream",
     "text": [
      "C:\\Users\\ppital499\\AppData\\Local\\Continuum\\anaconda3.6\\lib\\site-packages\\sklearn\\metrics\\classification.py:1135: UndefinedMetricWarning: F-score is ill-defined and being set to 0.0 due to no predicted samples.\n",
      "  'precision', 'predicted', average, warn_for)\n",
      "C:\\Users\\ppital499\\AppData\\Local\\Continuum\\anaconda3.6\\lib\\site-packages\\sklearn\\metrics\\classification.py:1135: UndefinedMetricWarning: F-score is ill-defined and being set to 0.0 due to no predicted samples.\n",
      "  'precision', 'predicted', average, warn_for)\n",
      "C:\\Users\\ppital499\\AppData\\Local\\Continuum\\anaconda3.6\\lib\\site-packages\\sklearn\\metrics\\classification.py:1135: UndefinedMetricWarning: F-score is ill-defined and being set to 0.0 due to no predicted samples.\n",
      "  'precision', 'predicted', average, warn_for)\n",
      "C:\\Users\\ppital499\\AppData\\Local\\Continuum\\anaconda3.6\\lib\\site-packages\\sklearn\\metrics\\classification.py:1135: UndefinedMetricWarning: F-score is ill-defined and being set to 0.0 due to no predicted samples.\n",
      "  'precision', 'predicted', average, warn_for)\n",
      "C:\\Users\\ppital499\\AppData\\Local\\Continuum\\anaconda3.6\\lib\\site-packages\\sklearn\\metrics\\classification.py:1135: UndefinedMetricWarning: F-score is ill-defined and being set to 0.0 due to no predicted samples.\n",
      "  'precision', 'predicted', average, warn_for)\n",
      "C:\\Users\\ppital499\\AppData\\Local\\Continuum\\anaconda3.6\\lib\\site-packages\\sklearn\\metrics\\classification.py:1135: UndefinedMetricWarning: F-score is ill-defined and being set to 0.0 due to no predicted samples.\n",
      "  'precision', 'predicted', average, warn_for)\n",
      "C:\\Users\\ppital499\\AppData\\Local\\Continuum\\anaconda3.6\\lib\\site-packages\\sklearn\\metrics\\classification.py:1135: UndefinedMetricWarning: F-score is ill-defined and being set to 0.0 due to no predicted samples.\n",
      "  'precision', 'predicted', average, warn_for)\n",
      "C:\\Users\\ppital499\\AppData\\Local\\Continuum\\anaconda3.6\\lib\\site-packages\\sklearn\\metrics\\classification.py:1135: UndefinedMetricWarning: F-score is ill-defined and being set to 0.0 due to no predicted samples.\n",
      "  'precision', 'predicted', average, warn_for)\n",
      "C:\\Users\\ppital499\\AppData\\Local\\Continuum\\anaconda3.6\\lib\\site-packages\\sklearn\\metrics\\classification.py:1135: UndefinedMetricWarning: F-score is ill-defined and being set to 0.0 due to no predicted samples.\n",
      "  'precision', 'predicted', average, warn_for)\n",
      "C:\\Users\\ppital499\\AppData\\Local\\Continuum\\anaconda3.6\\lib\\site-packages\\sklearn\\metrics\\classification.py:1135: UndefinedMetricWarning: F-score is ill-defined and being set to 0.0 due to no predicted samples.\n",
      "  'precision', 'predicted', average, warn_for)\n",
      "C:\\Users\\ppital499\\AppData\\Local\\Continuum\\anaconda3.6\\lib\\site-packages\\sklearn\\metrics\\classification.py:1135: UndefinedMetricWarning: F-score is ill-defined and being set to 0.0 due to no predicted samples.\n",
      "  'precision', 'predicted', average, warn_for)\n",
      "C:\\Users\\ppital499\\AppData\\Local\\Continuum\\anaconda3.6\\lib\\site-packages\\sklearn\\metrics\\classification.py:1135: UndefinedMetricWarning: F-score is ill-defined and being set to 0.0 due to no predicted samples.\n",
      "  'precision', 'predicted', average, warn_for)\n",
      "C:\\Users\\ppital499\\AppData\\Local\\Continuum\\anaconda3.6\\lib\\site-packages\\sklearn\\metrics\\classification.py:1135: UndefinedMetricWarning: F-score is ill-defined and being set to 0.0 due to no predicted samples.\n",
      "  'precision', 'predicted', average, warn_for)\n",
      "C:\\Users\\ppital499\\AppData\\Local\\Continuum\\anaconda3.6\\lib\\site-packages\\sklearn\\metrics\\classification.py:1135: UndefinedMetricWarning: F-score is ill-defined and being set to 0.0 due to no predicted samples.\n",
      "  'precision', 'predicted', average, warn_for)\n",
      "C:\\Users\\ppital499\\AppData\\Local\\Continuum\\anaconda3.6\\lib\\site-packages\\sklearn\\metrics\\classification.py:1135: UndefinedMetricWarning: F-score is ill-defined and being set to 0.0 due to no predicted samples.\n",
      "  'precision', 'predicted', average, warn_for)\n"
     ]
    }
   ],
   "source": [
    "from sklearn.model_selection import cross_val_score\n",
    "from sklearn.metrics import f1_score\n",
    "\n",
    "X = train_x\n",
    "y = train_y\n",
    "def cutoff_predict(clf,X,cutoff):\n",
    "    return(clf.predict_proba(X)[:,1] > cutoff).astype(int)\n",
    "\n",
    "scores = []\n",
    "def custom_f1(cutoff):\n",
    "    def f1_cutoff(clf,X,y):\n",
    "        ypred = cutoff_predict(clf,X, cutoff)\n",
    "        return sklearn.metrics.f1_score(y, ypred)\n",
    "    return f1_cutoff\n",
    "\n",
    "for cutoff in np.arange(0.1,0.6,0.1):\n",
    "    clf = RandomForestClassifier(n_estimators = 100,criterion='gini', max_depth=3, max_features='auto')\n",
    "    validated = cross_val_score(clf,train_x,train_y, cv = 5, scoring = custom_f1(cutoff))\n",
    "    scores.append(validated)"
   ]
  },
  {
   "cell_type": "code",
   "execution_count": 126,
   "metadata": {},
   "outputs": [
    {
     "data": {
      "image/png": "[encoded data removed]",
      "text/plain": [
       "<matplotlib.figure.Figure at 0x2c7b387b828>"
      ]
     },
     "metadata": {},
     "output_type": "display_data"
    }
   ],
   "source": [
    "x =np.array([0.1,0.2,0.3,0.4,0.5])\n",
    "sns.boxplot(x,y=scores)\n",
    "plt.title('F score for each cutoff')\n",
    "plt.xlabel('each cutoff value')\n",
    "plt.ylabel('customer F score')\n",
    "plt.show()"
   ]
  },
  {
   "cell_type": "code",
   "execution_count": 128,
   "metadata": {},
   "outputs": [],
   "source": [
    "ypred = grid_search.predict_proba(test_x)\n",
    "ypred[ypred<0.18] = 0\n",
    "ypred[ypred>=0.18] = 1\n",
    "y_pred = [item[1] for item in ypred]"
   ]
  },
  {
   "cell_type": "code",
   "execution_count": 129,
   "metadata": {},
   "outputs": [
    {
     "data": {
      "text/plain": [
       "(0.21120689655172414, 0.10337552742616034, 0.1388101983002833, None)"
      ]
     },
     "execution_count": 129,
     "metadata": {},
     "output_type": "execute_result"
    }
   ],
   "source": [
    "from sklearn.metrics import precision_recall_fscore_support\n",
    "precision_recall_fscore_support(test_y, y_pred,average = 'binary')"
   ]
  },
  {
   "cell_type": "code",
   "execution_count": 130,
   "metadata": {},
   "outputs": [
    {
     "data": {
      "text/plain": [
       "0.8311111111111111"
      ]
     },
     "execution_count": 130,
     "metadata": {},
     "output_type": "execute_result"
    }
   ],
   "source": [
    "from sklearn.metrics import accuracy_score\n",
    "accuracy_score(test_y, y_pred)"
   ]
  },
  {
   "cell_type": "code",
   "execution_count": 131,
   "metadata": {},
   "outputs": [
    {
     "data": {
      "text/plain": [
       "array([[2943,  183],\n",
       "       [ 425,   49]], dtype=int64)"
      ]
     },
     "execution_count": 131,
     "metadata": {},
     "output_type": "execute_result"
    }
   ],
   "source": [
    "from sklearn.metrics import confusion_matrix\n",
    "confusion_matrix=confusion_matrix(test_y, y_pred)\n",
    "confusion_matrix"
   ]
  },
  {
   "cell_type": "code",
   "execution_count": 132,
   "metadata": {},
   "outputs": [
    {
     "data": {
      "text/plain": [
       "array([[2943,  183],\n",
       "       [ 425,   49]], dtype=int64)"
      ]
     },
     "execution_count": 132,
     "metadata": {},
     "output_type": "execute_result"
    }
   ],
   "source": [
    "from sklearn.metrics import confusion_matrix\n",
    "confusion_matrix=confusion_matrix(test_y, y_pred)\n",
    "cm = np.array(confusion_matrix)\n",
    "cm"
   ]
  },
  {
   "cell_type": "code",
   "execution_count": 133,
   "metadata": {},
   "outputs": [
    {
     "data": {
      "text/plain": [
       "array([[2943,  183],\n",
       "       [ 425,   49]], dtype=int64)"
      ]
     },
     "execution_count": 133,
     "metadata": {},
     "output_type": "execute_result"
    }
   ],
   "source": [
    "from sklearn.metrics import confusion_matrix\n",
    "confusion_matrix=confusion_matrix(test_y, y_pred)\n",
    "cm = np.array(confusion_matrix)\n",
    "cm"
   ]
  },
  {
   "cell_type": "code",
   "execution_count": 134,
   "metadata": {},
   "outputs": [],
   "source": [
    "results = pd.concat([test_x,test_y],axis=1)\n",
    "results.reset_index(drop=True, inplace=True)\n",
    "prob= grid_search.predict_proba(test_x)\n",
    "predicted = pd.DataFrame({'SCORE':prob[:,1],'PRED':y_pred})\n",
    "predicted.reset_index(drop=True, inplace=True)\n",
    "ddf = pd.concat([results, predicted], axis=1) \n",
    "ddf['Decile']=pd.qcut(ddf['SCORE'], 10, labels = arange(10,0,-1))\n",
    "Decile = \"Decile\""
   ]
  },
  {
   "cell_type": "code",
   "execution_count": 135,
   "metadata": {},
   "outputs": [],
   "source": [
    "def score_plots(df, target, decile):\n",
    "    \n",
    "    fin_res = pd.DataFrame(arange(10,0,-1),columns = ['Decile'])\n",
    "    fin_res['Act_Target']=(df.loc[df['target'] == 1].groupby([decile],as_index=False).count())['PRED']\n",
    "    fin_res['Act_Non_Target']=(df.loc[df['target'] == 0].groupby([decile],as_index=False).count())['PRED']\n",
    "    fin_res['Pred_Target']=(df.groupby([decile],as_index=False).sum())['SCORE']\n",
    "    fin_res['Act_1_pct'] = (fin_res['Act_Target']/sum(fin_res['Act_Target']))\n",
    "    fin_res['Act_0_pct'] = (fin_res['Act_Non_Target']/sum(fin_res['Act_Non_Target']))\n",
    "    fin_res['Act_Cum_Tar'], fin_res['Act_Cum_1_pct'], fin_res['Act_Cum_0_pct'], fin_res['Lift'] = \" \", \" \", \" \", \" \"\n",
    "    r1 = 0\n",
    "    r0 = 0\n",
    "    d1 = 0\n",
    "    for j in range(10):\n",
    "        d1 = d1 + fin_res['Act_Target'][j]\n",
    "        r1 = r1 + fin_res['Act_1_pct'][j]\n",
    "        r0 = r0 + fin_res['Act_0_pct'][j]\n",
    "        fin_res['Act_Cum_Tar'][j] = d1\n",
    "        fin_res['Act_Cum_1_pct'][j] = r1\n",
    "        fin_res['Act_Cum_0_pct'][j] = r0\n",
    "        fin_res['Lift'][j] = r1*100 - (j+1)*10\n",
    "    fin_res['KS'] = abs(fin_res['Act_Cum_1_pct'] - fin_res['Act_Cum_0_pct'])*100\n",
    "    fin_res['fin_decile'] = arange(1,11,1)\n",
    "    \n",
    "    plt.subplots_adjust(left=0.0001, bottom=None, right=2.5, top=None, wspace=None, hspace=None)\n",
    "    plt.subplot(1,3,2)\n",
    "    plt.title(\"Actual vs Predicted\")\n",
    "    plt.plot(fin_res['fin_decile']*10,fin_res['Act_Target'], color = 'green', label = 'Actual', marker='d')\n",
    "    plt.plot(fin_res['fin_decile']*10,fin_res['Pred_Target'], color = 'blue', label = 'Predicted', marker='*')\n",
    "    plt.xticks(arange(0,110,10))\n",
    "    plt.yticks(arange(0,110,10))\n",
    "    plt.legend()\n",
    "    plt.xlabel('% of population')\n",
    "    plt.ylabel('Target Population %')\n",
    "    plt.grid()"
   ]
  },
  {
   "cell_type": "code",
   "execution_count": 136,
   "metadata": {},
   "outputs": [
    {
     "name": "stderr",
     "output_type": "stream",
     "text": [
      "C:\\Users\\ppital499\\AppData\\Local\\Continuum\\anaconda3.6\\lib\\site-packages\\ipykernel_launcher.py:17: SettingWithCopyWarning: \n",
      "A value is trying to be set on a copy of a slice from a DataFrame\n",
      "\n",
      "See the caveats in the documentation: http://pandas.pydata.org/pandas-docs/stable/indexing.html#indexing-view-versus-copy\n",
      "C:\\Users\\ppital499\\AppData\\Local\\Continuum\\anaconda3.6\\lib\\site-packages\\ipykernel_launcher.py:18: SettingWithCopyWarning: \n",
      "A value is trying to be set on a copy of a slice from a DataFrame\n",
      "\n",
      "See the caveats in the documentation: http://pandas.pydata.org/pandas-docs/stable/indexing.html#indexing-view-versus-copy\n",
      "C:\\Users\\ppital499\\AppData\\Local\\Continuum\\anaconda3.6\\lib\\site-packages\\ipykernel_launcher.py:19: SettingWithCopyWarning: \n",
      "A value is trying to be set on a copy of a slice from a DataFrame\n",
      "\n",
      "See the caveats in the documentation: http://pandas.pydata.org/pandas-docs/stable/indexing.html#indexing-view-versus-copy\n",
      "C:\\Users\\ppital499\\AppData\\Local\\Continuum\\anaconda3.6\\lib\\site-packages\\ipykernel_launcher.py:20: SettingWithCopyWarning: \n",
      "A value is trying to be set on a copy of a slice from a DataFrame\n",
      "\n",
      "See the caveats in the documentation: http://pandas.pydata.org/pandas-docs/stable/indexing.html#indexing-view-versus-copy\n"
     ]
    },
    {
     "data": {
      "image/png": "[encoded data removed]",
      "text/plain": [
       "<matplotlib.figure.Figure at 0x2c7b2c55eb8>"
      ]
     },
     "metadata": {},
     "output_type": "display_data"
    }
   ],
   "source": [
    "score_plots(ddf,target,Decile)"
   ]
  },
  {
   "cell_type": "markdown",
   "metadata": {},
   "source": [
    "## Understand how variables are affecting the target "
   ]
  },
  {
   "cell_type": "code",
   "execution_count": 137,
   "metadata": {},
   "outputs": [],
   "source": [
    "dftest=users.merge(target, left_on='object_id', right_on='user_id', how='inner')\n",
    "dftest=dftest.drop(['name','email','last_session_creation_time','user_id','email_domain','org_id','invited_by_user_id'],axis=1)\n",
    "dftest=dftest.fillna(0)\n",
    "dftest['creation_time']=pd.to_datetime(dftest['creation_time'], format='%m/%d/%Y %H:%M', errors='raise', infer_datetime_format=False, exact=True)\n",
    "dftest['Tenure'] = ((datetime.datetime.today() - dftest['creation_time'])/np.timedelta64(1, 'D'))\n",
    "dftest=dftest.drop(['creation_time'],axis=1)\n",
    "dftest = dftest.round(2)"
   ]
  },
  {
   "cell_type": "code",
   "execution_count": 138,
   "metadata": {},
   "outputs": [
    {
     "data": {
      "text/html": [
       "<div>\n",
       "<style scoped>\n",
       "    .dataframe tbody tr th:only-of-type {\n",
       "        vertical-align: middle;\n",
       "    }\n",
       "\n",
       "    .dataframe tbody tr th {\n",
       "        vertical-align: top;\n",
       "    }\n",
       "\n",
       "    .dataframe thead th {\n",
       "        text-align: right;\n",
       "    }\n",
       "</style>\n",
       "<table border=\"1\" class=\"dataframe\">\n",
       "  <thead>\n",
       "    <tr style=\"text-align: right;\">\n",
       "      <th></th>\n",
       "      <th>GUEST_INVITE</th>\n",
       "      <th>ORG_INVITE</th>\n",
       "      <th>PERSONAL_PROJECTS</th>\n",
       "      <th>SIGNUP</th>\n",
       "      <th>SIGNUP_GOOGLE_AUTH</th>\n",
       "    </tr>\n",
       "  </thead>\n",
       "  <tbody>\n",
       "    <tr>\n",
       "      <th>0</th>\n",
       "      <td>1</td>\n",
       "      <td>0</td>\n",
       "      <td>0</td>\n",
       "      <td>0</td>\n",
       "      <td>0</td>\n",
       "    </tr>\n",
       "    <tr>\n",
       "      <th>1</th>\n",
       "      <td>0</td>\n",
       "      <td>1</td>\n",
       "      <td>0</td>\n",
       "      <td>0</td>\n",
       "      <td>0</td>\n",
       "    </tr>\n",
       "    <tr>\n",
       "      <th>2</th>\n",
       "      <td>0</td>\n",
       "      <td>1</td>\n",
       "      <td>0</td>\n",
       "      <td>0</td>\n",
       "      <td>0</td>\n",
       "    </tr>\n",
       "    <tr>\n",
       "      <th>3</th>\n",
       "      <td>1</td>\n",
       "      <td>0</td>\n",
       "      <td>0</td>\n",
       "      <td>0</td>\n",
       "      <td>0</td>\n",
       "    </tr>\n",
       "    <tr>\n",
       "      <th>4</th>\n",
       "      <td>1</td>\n",
       "      <td>0</td>\n",
       "      <td>0</td>\n",
       "      <td>0</td>\n",
       "      <td>0</td>\n",
       "    </tr>\n",
       "  </tbody>\n",
       "</table>\n",
       "</div>"
      ],
      "text/plain": [
       "   GUEST_INVITE  ORG_INVITE  PERSONAL_PROJECTS  SIGNUP  SIGNUP_GOOGLE_AUTH\n",
       "0             1           0                  0       0                   0\n",
       "1             0           1                  0       0                   0\n",
       "2             0           1                  0       0                   0\n",
       "3             1           0                  0       0                   0\n",
       "4             1           0                  0       0                   0"
      ]
     },
     "execution_count": 138,
     "metadata": {},
     "output_type": "execute_result"
    }
   ],
   "source": [
    "creation_source = pd.get_dummies(dftest['creation_source'],drop_first=False)\n",
    "creation_source.head()"
   ]
  },
  {
   "cell_type": "code",
   "execution_count": 139,
   "metadata": {},
   "outputs": [
    {
     "data": {
      "text/html": [
       "<div>\n",
       "<style scoped>\n",
       "    .dataframe tbody tr th:only-of-type {\n",
       "        vertical-align: middle;\n",
       "    }\n",
       "\n",
       "    .dataframe tbody tr th {\n",
       "        vertical-align: top;\n",
       "    }\n",
       "\n",
       "    .dataframe thead th {\n",
       "        text-align: right;\n",
       "    }\n",
       "</style>\n",
       "<table border=\"1\" class=\"dataframe\">\n",
       "  <thead>\n",
       "    <tr style=\"text-align: right;\">\n",
       "      <th></th>\n",
       "      <th>object_id</th>\n",
       "      <th>opted_in_to_mailing_list</th>\n",
       "      <th>enabled_for_marketing_drip</th>\n",
       "      <th>target</th>\n",
       "      <th>Tenure</th>\n",
       "    </tr>\n",
       "  </thead>\n",
       "  <tbody>\n",
       "    <tr>\n",
       "      <th>0</th>\n",
       "      <td>1</td>\n",
       "      <td>1</td>\n",
       "      <td>0</td>\n",
       "      <td>0</td>\n",
       "      <td>1489.40</td>\n",
       "    </tr>\n",
       "    <tr>\n",
       "      <th>1</th>\n",
       "      <td>2</td>\n",
       "      <td>0</td>\n",
       "      <td>0</td>\n",
       "      <td>1</td>\n",
       "      <td>1647.40</td>\n",
       "    </tr>\n",
       "    <tr>\n",
       "      <th>2</th>\n",
       "      <td>3</td>\n",
       "      <td>0</td>\n",
       "      <td>0</td>\n",
       "      <td>0</td>\n",
       "      <td>1887.59</td>\n",
       "    </tr>\n",
       "    <tr>\n",
       "      <th>3</th>\n",
       "      <td>4</td>\n",
       "      <td>0</td>\n",
       "      <td>0</td>\n",
       "      <td>0</td>\n",
       "      <td>1825.22</td>\n",
       "    </tr>\n",
       "    <tr>\n",
       "      <th>4</th>\n",
       "      <td>5</td>\n",
       "      <td>0</td>\n",
       "      <td>0</td>\n",
       "      <td>0</td>\n",
       "      <td>1949.13</td>\n",
       "    </tr>\n",
       "  </tbody>\n",
       "</table>\n",
       "</div>"
      ],
      "text/plain": [
       "   object_id  opted_in_to_mailing_list  enabled_for_marketing_drip  target  \\\n",
       "0          1                         1                           0       0   \n",
       "1          2                         0                           0       1   \n",
       "2          3                         0                           0       0   \n",
       "3          4                         0                           0       0   \n",
       "4          5                         0                           0       0   \n",
       "\n",
       "    Tenure  \n",
       "0  1489.40  \n",
       "1  1647.40  \n",
       "2  1887.59  \n",
       "3  1825.22  \n",
       "4  1949.13  "
      ]
     },
     "execution_count": 139,
     "metadata": {},
     "output_type": "execute_result"
    }
   ],
   "source": [
    "dftest.drop(['creation_source'],axis=1,inplace=True)\n",
    "dftest.head()"
   ]
  },
  {
   "cell_type": "code",
   "execution_count": 140,
   "metadata": {},
   "outputs": [
    {
     "data": {
      "text/plain": [
       "Index(['object_id', 'opted_in_to_mailing_list', 'enabled_for_marketing_drip',\n",
       "       'target', 'Tenure', 'GUEST_INVITE', 'ORG_INVITE', 'PERSONAL_PROJECTS',\n",
       "       'SIGNUP', 'SIGNUP_GOOGLE_AUTH'],\n",
       "      dtype='object')"
      ]
     },
     "execution_count": 140,
     "metadata": {},
     "output_type": "execute_result"
    }
   ],
   "source": [
    "dftest_dmy = pd.concat([dftest,creation_source],axis=1)\n",
    "dftest_dmy.columns"
   ]
  },
  {
   "cell_type": "code",
   "execution_count": 141,
   "metadata": {},
   "outputs": [
    {
     "data": {
      "text/html": [
       "<div>\n",
       "<style scoped>\n",
       "    .dataframe tbody tr th:only-of-type {\n",
       "        vertical-align: middle;\n",
       "    }\n",
       "\n",
       "    .dataframe tbody tr th {\n",
       "        vertical-align: top;\n",
       "    }\n",
       "\n",
       "    .dataframe thead th {\n",
       "        text-align: right;\n",
       "    }\n",
       "</style>\n",
       "<table border=\"1\" class=\"dataframe\">\n",
       "  <thead>\n",
       "    <tr style=\"text-align: right;\">\n",
       "      <th></th>\n",
       "      <th>object_id</th>\n",
       "      <th>opted_in_to_mailing_list</th>\n",
       "      <th>enabled_for_marketing_drip</th>\n",
       "      <th>target</th>\n",
       "      <th>Tenure</th>\n",
       "      <th>GUEST_INVITE</th>\n",
       "      <th>ORG_INVITE</th>\n",
       "      <th>PERSONAL_PROJECTS</th>\n",
       "      <th>SIGNUP</th>\n",
       "      <th>SIGNUP_GOOGLE_AUTH</th>\n",
       "    </tr>\n",
       "  </thead>\n",
       "  <tbody>\n",
       "    <tr>\n",
       "      <th>0</th>\n",
       "      <td>1</td>\n",
       "      <td>1</td>\n",
       "      <td>0</td>\n",
       "      <td>0</td>\n",
       "      <td>1489.40</td>\n",
       "      <td>1</td>\n",
       "      <td>0</td>\n",
       "      <td>0</td>\n",
       "      <td>0</td>\n",
       "      <td>0</td>\n",
       "    </tr>\n",
       "    <tr>\n",
       "      <th>1</th>\n",
       "      <td>2</td>\n",
       "      <td>0</td>\n",
       "      <td>0</td>\n",
       "      <td>1</td>\n",
       "      <td>1647.40</td>\n",
       "      <td>0</td>\n",
       "      <td>1</td>\n",
       "      <td>0</td>\n",
       "      <td>0</td>\n",
       "      <td>0</td>\n",
       "    </tr>\n",
       "    <tr>\n",
       "      <th>2</th>\n",
       "      <td>3</td>\n",
       "      <td>0</td>\n",
       "      <td>0</td>\n",
       "      <td>0</td>\n",
       "      <td>1887.59</td>\n",
       "      <td>0</td>\n",
       "      <td>1</td>\n",
       "      <td>0</td>\n",
       "      <td>0</td>\n",
       "      <td>0</td>\n",
       "    </tr>\n",
       "    <tr>\n",
       "      <th>3</th>\n",
       "      <td>4</td>\n",
       "      <td>0</td>\n",
       "      <td>0</td>\n",
       "      <td>0</td>\n",
       "      <td>1825.22</td>\n",
       "      <td>1</td>\n",
       "      <td>0</td>\n",
       "      <td>0</td>\n",
       "      <td>0</td>\n",
       "      <td>0</td>\n",
       "    </tr>\n",
       "    <tr>\n",
       "      <th>4</th>\n",
       "      <td>5</td>\n",
       "      <td>0</td>\n",
       "      <td>0</td>\n",
       "      <td>0</td>\n",
       "      <td>1949.13</td>\n",
       "      <td>1</td>\n",
       "      <td>0</td>\n",
       "      <td>0</td>\n",
       "      <td>0</td>\n",
       "      <td>0</td>\n",
       "    </tr>\n",
       "  </tbody>\n",
       "</table>\n",
       "</div>"
      ],
      "text/plain": [
       "   object_id  opted_in_to_mailing_list  enabled_for_marketing_drip  target  \\\n",
       "0          1                         1                           0       0   \n",
       "1          2                         0                           0       1   \n",
       "2          3                         0                           0       0   \n",
       "3          4                         0                           0       0   \n",
       "4          5                         0                           0       0   \n",
       "\n",
       "    Tenure  GUEST_INVITE  ORG_INVITE  PERSONAL_PROJECTS  SIGNUP  \\\n",
       "0  1489.40             1           0                  0       0   \n",
       "1  1647.40             0           1                  0       0   \n",
       "2  1887.59             0           1                  0       0   \n",
       "3  1825.22             1           0                  0       0   \n",
       "4  1949.13             1           0                  0       0   \n",
       "\n",
       "   SIGNUP_GOOGLE_AUTH  \n",
       "0                   0  \n",
       "1                   0  \n",
       "2                   0  \n",
       "3                   0  \n",
       "4                   0  "
      ]
     },
     "execution_count": 141,
     "metadata": {},
     "output_type": "execute_result"
    }
   ],
   "source": [
    "dftest_dmy.head()"
   ]
  },
  {
   "cell_type": "code",
   "execution_count": 142,
   "metadata": {},
   "outputs": [
    {
     "name": "stderr",
     "output_type": "stream",
     "text": [
      "C:\\Users\\ppital499\\AppData\\Local\\Continuum\\anaconda3.6\\lib\\site-packages\\ipykernel_launcher.py:1: DeprecationWarning: \n",
      ".ix is deprecated. Please use\n",
      ".loc for label based indexing or\n",
      ".iloc for positional indexing\n",
      "\n",
      "See the documentation here:\n",
      "http://pandas.pydata.org/pandas-docs/stable/indexing.html#ix-indexer-is-deprecated\n",
      "  \"\"\"Entry point for launching an IPython kernel.\n"
     ]
    }
   ],
   "source": [
    "x = dftest_dmy.ix[:,(1,2,4,5,6,8,9)].values\n",
    "y = dftest_dmy.ix[:,3].values"
   ]
  },
  {
   "cell_type": "code",
   "execution_count": 143,
   "metadata": {},
   "outputs": [],
   "source": [
    "all_input_var = ['opted_in_to_mailing_list','Tenure','enabled_for_marketing_drip','GUEST_INVITE',\n",
    "       'PERSONAL_PROJECTS', 'SIGNUP', 'SIGNUP_GOOGLE_AUTH']\n",
    "vif = []\n",
    "for i in range(dftest_dmy[all_input_var].shape[1]):\n",
    "    vif.append(variance_inflation_factor(dftest_dmy[all_input_var].values,i))\n",
    "vif = pd.DataFrame(vif)\n",
    "names = pd.DataFrame(dftest_dmy[all_input_var].columns.tolist())\n",
    "t = pd.concat([names,vif],axis=1)\n",
    "t.columns = ['variable','vif_score']"
   ]
  },
  {
   "cell_type": "code",
   "execution_count": 144,
   "metadata": {},
   "outputs": [
    {
     "data": {
      "text/html": [
       "<div>\n",
       "<style scoped>\n",
       "    .dataframe tbody tr th:only-of-type {\n",
       "        vertical-align: middle;\n",
       "    }\n",
       "\n",
       "    .dataframe tbody tr th {\n",
       "        vertical-align: top;\n",
       "    }\n",
       "\n",
       "    .dataframe thead th {\n",
       "        text-align: right;\n",
       "    }\n",
       "</style>\n",
       "<table border=\"1\" class=\"dataframe\">\n",
       "  <thead>\n",
       "    <tr style=\"text-align: right;\">\n",
       "      <th></th>\n",
       "      <th>variable</th>\n",
       "      <th>vif_score</th>\n",
       "    </tr>\n",
       "  </thead>\n",
       "  <tbody>\n",
       "    <tr>\n",
       "      <th>0</th>\n",
       "      <td>opted_in_to_mailing_list</td>\n",
       "      <td>1.736430</td>\n",
       "    </tr>\n",
       "    <tr>\n",
       "      <th>1</th>\n",
       "      <td>Tenure</td>\n",
       "      <td>3.107140</td>\n",
       "    </tr>\n",
       "    <tr>\n",
       "      <th>2</th>\n",
       "      <td>enabled_for_marketing_drip</td>\n",
       "      <td>1.533191</td>\n",
       "    </tr>\n",
       "    <tr>\n",
       "      <th>3</th>\n",
       "      <td>GUEST_INVITE</td>\n",
       "      <td>1.493311</td>\n",
       "    </tr>\n",
       "    <tr>\n",
       "      <th>4</th>\n",
       "      <td>PERSONAL_PROJECTS</td>\n",
       "      <td>1.485202</td>\n",
       "    </tr>\n",
       "    <tr>\n",
       "      <th>5</th>\n",
       "      <td>SIGNUP</td>\n",
       "      <td>1.469108</td>\n",
       "    </tr>\n",
       "    <tr>\n",
       "      <th>6</th>\n",
       "      <td>SIGNUP_GOOGLE_AUTH</td>\n",
       "      <td>1.312933</td>\n",
       "    </tr>\n",
       "  </tbody>\n",
       "</table>\n",
       "</div>"
      ],
      "text/plain": [
       "                     variable  vif_score\n",
       "0    opted_in_to_mailing_list   1.736430\n",
       "1                      Tenure   3.107140\n",
       "2  enabled_for_marketing_drip   1.533191\n",
       "3                GUEST_INVITE   1.493311\n",
       "4           PERSONAL_PROJECTS   1.485202\n",
       "5                      SIGNUP   1.469108\n",
       "6          SIGNUP_GOOGLE_AUTH   1.312933"
      ]
     },
     "execution_count": 144,
     "metadata": {},
     "output_type": "execute_result"
    }
   ],
   "source": [
    "t"
   ]
  },
  {
   "cell_type": "code",
   "execution_count": 145,
   "metadata": {},
   "outputs": [
    {
     "data": {
      "image/png": "[encoded data removed]",
      "text/plain": [
       "<matplotlib.figure.Figure at 0x2c7b3abb7f0>"
      ]
     },
     "metadata": {},
     "output_type": "display_data"
    }
   ],
   "source": [
    "sns.heatmap(dftest_dmy.corr())\n",
    "plt.show()"
   ]
  },
  {
   "cell_type": "code",
   "execution_count": 146,
   "metadata": {},
   "outputs": [
    {
     "name": "stdout",
     "output_type": "stream",
     "text": [
      "Optimization terminated successfully.\n",
      "         Current function value: 0.409517\n",
      "         Iterations 6\n",
      "                           Logit Regression Results                           \n",
      "==============================================================================\n",
      "Dep. Variable:                      y   No. Observations:                12000\n",
      "Model:                          Logit   Df Residuals:                    11993\n",
      "Method:                           MLE   Df Model:                            6\n",
      "Date:                Sun, 20 May 2018   Pseudo R-squ.:                -0.02043\n",
      "Time:                        13:26:59   Log-Likelihood:                -4914.2\n",
      "converged:                       True   LL-Null:                       -4815.8\n",
      "                                        LLR p-value:                     1.000\n",
      "==============================================================================================\n",
      "                                 coef    std err          z      P>|z|      [0.025      0.975]\n",
      "----------------------------------------------------------------------------------------------\n",
      "opted_in_to_mailing_list      -0.0128      0.069     -0.186      0.852      -0.148       0.122\n",
      "enabled_for_marketing_drip    -0.0140      0.084     -0.166      0.868      -0.178       0.150\n",
      "Tenure                        -0.0011   3.73e-05    -29.870      0.000      -0.001      -0.001\n",
      "GUEST_INVITE                   0.3824      0.086      4.465      0.000       0.215       0.550\n",
      "Personal_projects              0.0937      0.078      1.208      0.227      -0.058       0.246\n",
      "SIGN_UP                        0.1725      0.089      1.943      0.052      -0.001       0.346\n",
      "SIGN_UP_AUTH                   0.3874      0.095      4.061      0.000       0.200       0.574\n",
      "==============================================================================================\n"
     ]
    }
   ],
   "source": [
    "from scipy import stats\n",
    "stats.chisqprob = lambda chisq, df: stats.chi2.sf(chisq, df)\n",
    "\n",
    "import statsmodels.formula.api as sm\n",
    "from sklearn.linear_model import LogisticRegression\n",
    "\n",
    "logit = sm.Logit(y, x).fit()\n",
    "x=logit.summary(xname = (['opted_in_to_mailing_list', 'enabled_for_marketing_drip','Tenure','GUEST_INVITE','Personal_projects','SIGN_UP','SIGN_UP_AUTH']))\n",
    "print(x)"
   ]
  },
  {
   "cell_type": "markdown",
   "metadata": {},
   "source": [
    "~Prajakta Pitale"
   ]
  },
  {
   "cell_type": "code",
   "execution_count": null,
   "metadata": {},
   "outputs": [],
   "source": []
  }
 ],
 "metadata": {
  "kernelspec": {
   "display_name": "Python 3",
   "language": "python",
   "name": "python3"
  },
  "language_info": {
   "codemirror_mode": {
    "name": "ipython",
    "version": 3
   },
   "file_extension": ".py",
   "mimetype": "text/x-python",
   "name": "python",
   "nbconvert_exporter": "python",
   "pygments_lexer": "ipython3",
   "version": "3.6.4"
  }
 },
 "nbformat": 4,
 "nbformat_minor": 2
}
